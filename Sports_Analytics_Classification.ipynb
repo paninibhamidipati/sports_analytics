{
 "cells": [
  {
   "cell_type": "markdown",
   "id": "898a436a",
   "metadata": {},
   "source": [
    "# Data Pre-Processing"
   ]
  },
  {
   "cell_type": "code",
   "execution_count": 1,
   "id": "20f38d09",
   "metadata": {},
   "outputs": [],
   "source": [
    "import pandas as pd\n",
    "import os"
   ]
  },
  {
   "cell_type": "code",
   "execution_count": 2,
   "id": "77d0dbd8",
   "metadata": {},
   "outputs": [
    {
     "data": {
      "text/plain": [
       "'./data/All PPE Folders\\\\PPE09182201\\\\SQT01.mot'"
      ]
     },
     "execution_count": 2,
     "metadata": {},
     "output_type": "execute_result"
    }
   ],
   "source": [
    "data_dir = \"./data/All PPE Folders\"\n",
    "sub_dir = \"PPE09182201\"\n",
    "motion_file = \"SQT01.mot\"\n",
    "\n",
    "file_name = os.path.join(data_dir, sub_dir, motion_file)\n",
    "file_name"
   ]
  },
  {
   "cell_type": "code",
   "execution_count": 3,
   "id": "03af04d6",
   "metadata": {},
   "outputs": [
    {
     "data": {
      "text/plain": [
       "(455, 36)"
      ]
     },
     "execution_count": 3,
     "metadata": {},
     "output_type": "execute_result"
    }
   ],
   "source": [
    "with open(file_name) as f:\n",
    "    d = f.read().splitlines()\n",
    "\n",
    "nrows, ncols = int(d[2].split(\"=\")[1]), int(d[3].split(\"=\")[1])\n",
    "nrows, ncols"
   ]
  },
  {
   "cell_type": "code",
   "execution_count": 4,
   "id": "e90e8977",
   "metadata": {},
   "outputs": [
    {
     "data": {
      "text/plain": [
       "36"
      ]
     },
     "execution_count": 4,
     "metadata": {},
     "output_type": "execute_result"
    }
   ],
   "source": [
    "headers = d[10].split(\"\\t\")\n",
    "len(headers)"
   ]
  },
  {
   "cell_type": "code",
   "execution_count": 5,
   "id": "c9ea97d7",
   "metadata": {},
   "outputs": [],
   "source": [
    "df = []\n",
    "for l in d[11:]:\n",
    "    df.append([float(x) for x in l.split('\\t')])"
   ]
  },
  {
   "cell_type": "code",
   "execution_count": 6,
   "id": "e6e83eaa",
   "metadata": {},
   "outputs": [
    {
     "data": {
      "text/html": [
       "<div>\n",
       "<style scoped>\n",
       "    .dataframe tbody tr th:only-of-type {\n",
       "        vertical-align: middle;\n",
       "    }\n",
       "\n",
       "    .dataframe tbody tr th {\n",
       "        vertical-align: top;\n",
       "    }\n",
       "\n",
       "    .dataframe thead th {\n",
       "        text-align: right;\n",
       "    }\n",
       "</style>\n",
       "<table border=\"1\" class=\"dataframe\">\n",
       "  <thead>\n",
       "    <tr style=\"text-align: right;\">\n",
       "      <th></th>\n",
       "      <th>time</th>\n",
       "      <th>pelvis_tilt</th>\n",
       "      <th>pelvis_list</th>\n",
       "      <th>pelvis_rotation</th>\n",
       "      <th>pelvis_tx</th>\n",
       "      <th>pelvis_ty</th>\n",
       "      <th>pelvis_tz</th>\n",
       "      <th>hip_flexion_r</th>\n",
       "      <th>hip_adduction_r</th>\n",
       "      <th>hip_rotation_r</th>\n",
       "      <th>...</th>\n",
       "      <th>arm_flex_r</th>\n",
       "      <th>arm_add_r</th>\n",
       "      <th>arm_rot_r</th>\n",
       "      <th>elbow_flex_r</th>\n",
       "      <th>pro_sup_r</th>\n",
       "      <th>arm_flex_l</th>\n",
       "      <th>arm_add_l</th>\n",
       "      <th>arm_rot_l</th>\n",
       "      <th>elbow_flex_l</th>\n",
       "      <th>pro_sup_l</th>\n",
       "    </tr>\n",
       "  </thead>\n",
       "  <tbody>\n",
       "    <tr>\n",
       "      <th>0</th>\n",
       "      <td>0.000000</td>\n",
       "      <td>-8.915465</td>\n",
       "      <td>-2.070948</td>\n",
       "      <td>-2.125879</td>\n",
       "      <td>0.171874</td>\n",
       "      <td>1.014836</td>\n",
       "      <td>-0.035707</td>\n",
       "      <td>7.186281</td>\n",
       "      <td>-5.650549</td>\n",
       "      <td>-3.984943</td>\n",
       "      <td>...</td>\n",
       "      <td>110.892277</td>\n",
       "      <td>-70.499621</td>\n",
       "      <td>35.752012</td>\n",
       "      <td>131.194794</td>\n",
       "      <td>95.448705</td>\n",
       "      <td>99.142583</td>\n",
       "      <td>-40.231697</td>\n",
       "      <td>26.038595</td>\n",
       "      <td>129.812775</td>\n",
       "      <td>102.735301</td>\n",
       "    </tr>\n",
       "    <tr>\n",
       "      <th>1</th>\n",
       "      <td>0.016667</td>\n",
       "      <td>-9.015085</td>\n",
       "      <td>-1.376873</td>\n",
       "      <td>-3.803004</td>\n",
       "      <td>0.174239</td>\n",
       "      <td>1.014212</td>\n",
       "      <td>-0.033933</td>\n",
       "      <td>8.125908</td>\n",
       "      <td>-6.286282</td>\n",
       "      <td>-2.746985</td>\n",
       "      <td>...</td>\n",
       "      <td>104.226168</td>\n",
       "      <td>-64.550768</td>\n",
       "      <td>21.603874</td>\n",
       "      <td>144.041484</td>\n",
       "      <td>110.786343</td>\n",
       "      <td>97.742382</td>\n",
       "      <td>-45.318663</td>\n",
       "      <td>24.639729</td>\n",
       "      <td>134.145180</td>\n",
       "      <td>79.369199</td>\n",
       "    </tr>\n",
       "    <tr>\n",
       "      <th>2</th>\n",
       "      <td>0.033333</td>\n",
       "      <td>-9.125860</td>\n",
       "      <td>-1.900665</td>\n",
       "      <td>-3.941072</td>\n",
       "      <td>0.169508</td>\n",
       "      <td>1.015510</td>\n",
       "      <td>-0.031200</td>\n",
       "      <td>8.804722</td>\n",
       "      <td>-5.629132</td>\n",
       "      <td>-1.849854</td>\n",
       "      <td>...</td>\n",
       "      <td>101.393066</td>\n",
       "      <td>-60.578942</td>\n",
       "      <td>19.173943</td>\n",
       "      <td>146.548606</td>\n",
       "      <td>109.005938</td>\n",
       "      <td>97.767065</td>\n",
       "      <td>-48.472512</td>\n",
       "      <td>23.204764</td>\n",
       "      <td>137.751748</td>\n",
       "      <td>78.476700</td>\n",
       "    </tr>\n",
       "    <tr>\n",
       "      <th>3</th>\n",
       "      <td>0.050000</td>\n",
       "      <td>-8.699670</td>\n",
       "      <td>-1.825717</td>\n",
       "      <td>-3.812869</td>\n",
       "      <td>0.164162</td>\n",
       "      <td>1.011590</td>\n",
       "      <td>-0.032987</td>\n",
       "      <td>8.897467</td>\n",
       "      <td>-5.993804</td>\n",
       "      <td>-1.741397</td>\n",
       "      <td>...</td>\n",
       "      <td>103.831576</td>\n",
       "      <td>-58.845309</td>\n",
       "      <td>20.955075</td>\n",
       "      <td>147.045768</td>\n",
       "      <td>105.421374</td>\n",
       "      <td>100.414508</td>\n",
       "      <td>-49.498046</td>\n",
       "      <td>21.302780</td>\n",
       "      <td>138.554103</td>\n",
       "      <td>75.821215</td>\n",
       "    </tr>\n",
       "    <tr>\n",
       "      <th>4</th>\n",
       "      <td>0.066667</td>\n",
       "      <td>-8.494094</td>\n",
       "      <td>-1.812963</td>\n",
       "      <td>-3.728858</td>\n",
       "      <td>0.157963</td>\n",
       "      <td>1.012352</td>\n",
       "      <td>-0.031997</td>\n",
       "      <td>9.409377</td>\n",
       "      <td>-6.160399</td>\n",
       "      <td>-1.946360</td>\n",
       "      <td>...</td>\n",
       "      <td>105.119017</td>\n",
       "      <td>-56.699907</td>\n",
       "      <td>22.410718</td>\n",
       "      <td>147.403452</td>\n",
       "      <td>100.090269</td>\n",
       "      <td>102.540157</td>\n",
       "      <td>-50.488925</td>\n",
       "      <td>19.660346</td>\n",
       "      <td>139.615511</td>\n",
       "      <td>74.899566</td>\n",
       "    </tr>\n",
       "  </tbody>\n",
       "</table>\n",
       "<p>5 rows × 36 columns</p>\n",
       "</div>"
      ],
      "text/plain": [
       "       time  pelvis_tilt  pelvis_list  pelvis_rotation  pelvis_tx  pelvis_ty  \\\n",
       "0  0.000000    -8.915465    -2.070948        -2.125879   0.171874   1.014836   \n",
       "1  0.016667    -9.015085    -1.376873        -3.803004   0.174239   1.014212   \n",
       "2  0.033333    -9.125860    -1.900665        -3.941072   0.169508   1.015510   \n",
       "3  0.050000    -8.699670    -1.825717        -3.812869   0.164162   1.011590   \n",
       "4  0.066667    -8.494094    -1.812963        -3.728858   0.157963   1.012352   \n",
       "\n",
       "   pelvis_tz  hip_flexion_r  hip_adduction_r  hip_rotation_r  ...  arm_flex_r  \\\n",
       "0  -0.035707       7.186281        -5.650549       -3.984943  ...  110.892277   \n",
       "1  -0.033933       8.125908        -6.286282       -2.746985  ...  104.226168   \n",
       "2  -0.031200       8.804722        -5.629132       -1.849854  ...  101.393066   \n",
       "3  -0.032987       8.897467        -5.993804       -1.741397  ...  103.831576   \n",
       "4  -0.031997       9.409377        -6.160399       -1.946360  ...  105.119017   \n",
       "\n",
       "   arm_add_r  arm_rot_r  elbow_flex_r   pro_sup_r  arm_flex_l  arm_add_l  \\\n",
       "0 -70.499621  35.752012    131.194794   95.448705   99.142583 -40.231697   \n",
       "1 -64.550768  21.603874    144.041484  110.786343   97.742382 -45.318663   \n",
       "2 -60.578942  19.173943    146.548606  109.005938   97.767065 -48.472512   \n",
       "3 -58.845309  20.955075    147.045768  105.421374  100.414508 -49.498046   \n",
       "4 -56.699907  22.410718    147.403452  100.090269  102.540157 -50.488925   \n",
       "\n",
       "   arm_rot_l  elbow_flex_l   pro_sup_l  \n",
       "0  26.038595    129.812775  102.735301  \n",
       "1  24.639729    134.145180   79.369199  \n",
       "2  23.204764    137.751748   78.476700  \n",
       "3  21.302780    138.554103   75.821215  \n",
       "4  19.660346    139.615511   74.899566  \n",
       "\n",
       "[5 rows x 36 columns]"
      ]
     },
     "execution_count": 6,
     "metadata": {},
     "output_type": "execute_result"
    }
   ],
   "source": [
    "df = pd.DataFrame(df, columns=headers)\n",
    "df.head()"
   ]
  },
  {
   "cell_type": "code",
   "execution_count": 7,
   "id": "7b6fc951",
   "metadata": {},
   "outputs": [
    {
     "data": {
      "text/plain": [
       "['./data/All PPE Folders\\\\PPE09182201',\n",
       " './data/All PPE Folders\\\\PPE09182202',\n",
       " './data/All PPE Folders\\\\PPE09182203',\n",
       " './data/All PPE Folders\\\\PPE09182204',\n",
       " './data/All PPE Folders\\\\PPE09182205',\n",
       " './data/All PPE Folders\\\\PPE09182206',\n",
       " './data/All PPE Folders\\\\PPE09182207',\n",
       " './data/All PPE Folders\\\\PPE09182208',\n",
       " './data/All PPE Folders\\\\PPE09182209',\n",
       " './data/All PPE Folders\\\\PPE09182210',\n",
       " './data/All PPE Folders\\\\PPE09182211',\n",
       " './data/All PPE Folders\\\\PPE09182212',\n",
       " './data/All PPE Folders\\\\PPE09182213',\n",
       " './data/All PPE Folders\\\\PPE09182214',\n",
       " './data/All PPE Folders\\\\PPE09182215',\n",
       " './data/All PPE Folders\\\\PPE09182216',\n",
       " './data/All PPE Folders\\\\PPE09182217',\n",
       " './data/All PPE Folders\\\\PPE09182218',\n",
       " './data/All PPE Folders\\\\PPE09182219',\n",
       " './data/All PPE Folders\\\\PPE09182220',\n",
       " './data/All PPE Folders\\\\PPE09182221',\n",
       " './data/All PPE Folders\\\\PPE10082201',\n",
       " './data/All PPE Folders\\\\PPE10082202',\n",
       " './data/All PPE Folders\\\\PPE10082203',\n",
       " './data/All PPE Folders\\\\PPE10082205',\n",
       " './data/All PPE Folders\\\\PPE10082206',\n",
       " './data/All PPE Folders\\\\PPE10082207',\n",
       " './data/All PPE Folders\\\\PPE10082208',\n",
       " './data/All PPE Folders\\\\PPE10082209',\n",
       " './data/All PPE Folders\\\\PPE10082210',\n",
       " './data/All PPE Folders\\\\PPE10082211',\n",
       " './data/All PPE Folders\\\\PPE10082212',\n",
       " './data/All PPE Folders\\\\PPE10082213',\n",
       " './data/All PPE Folders\\\\PPE10082214',\n",
       " './data/All PPE Folders\\\\PPE10082215',\n",
       " './data/All PPE Folders\\\\PPE10082216',\n",
       " './data/All PPE Folders\\\\PPE10082217',\n",
       " './data/All PPE Folders\\\\PPE10082218']"
      ]
     },
     "execution_count": 7,
     "metadata": {},
     "output_type": "execute_result"
    }
   ],
   "source": [
    "parent_dir = \"./data\"\n",
    "train_data_dir = \"./data/All PPE Folders\"\n",
    "files = [f[0] for f in os.walk(train_data_dir)]\n",
    "files.pop(0)\n",
    "files"
   ]
  },
  {
   "cell_type": "code",
   "execution_count": 8,
   "id": "fde5fbec",
   "metadata": {},
   "outputs": [
    {
     "data": {
      "text/html": [
       "<div>\n",
       "<style scoped>\n",
       "    .dataframe tbody tr th:only-of-type {\n",
       "        vertical-align: middle;\n",
       "    }\n",
       "\n",
       "    .dataframe tbody tr th {\n",
       "        vertical-align: top;\n",
       "    }\n",
       "\n",
       "    .dataframe thead th {\n",
       "        text-align: right;\n",
       "    }\n",
       "</style>\n",
       "<table border=\"1\" class=\"dataframe\">\n",
       "  <thead>\n",
       "    <tr style=\"text-align: right;\">\n",
       "      <th></th>\n",
       "      <th>Sequence</th>\n",
       "      <th>Score</th>\n",
       "    </tr>\n",
       "  </thead>\n",
       "  <tbody>\n",
       "    <tr>\n",
       "      <th>0</th>\n",
       "      <td>PPE09182201</td>\n",
       "      <td>4</td>\n",
       "    </tr>\n",
       "    <tr>\n",
       "      <th>1</th>\n",
       "      <td>PPE09182202</td>\n",
       "      <td>4</td>\n",
       "    </tr>\n",
       "    <tr>\n",
       "      <th>2</th>\n",
       "      <td>PPE09182203</td>\n",
       "      <td>2</td>\n",
       "    </tr>\n",
       "    <tr>\n",
       "      <th>3</th>\n",
       "      <td>PPE09182204</td>\n",
       "      <td>4</td>\n",
       "    </tr>\n",
       "    <tr>\n",
       "      <th>4</th>\n",
       "      <td>PPE09182205</td>\n",
       "      <td>2</td>\n",
       "    </tr>\n",
       "    <tr>\n",
       "      <th>5</th>\n",
       "      <td>PPE09182206</td>\n",
       "      <td>4</td>\n",
       "    </tr>\n",
       "    <tr>\n",
       "      <th>6</th>\n",
       "      <td>PPE09182207</td>\n",
       "      <td>3</td>\n",
       "    </tr>\n",
       "    <tr>\n",
       "      <th>7</th>\n",
       "      <td>PPE09182208</td>\n",
       "      <td>3</td>\n",
       "    </tr>\n",
       "    <tr>\n",
       "      <th>8</th>\n",
       "      <td>PPE09182209</td>\n",
       "      <td>2</td>\n",
       "    </tr>\n",
       "    <tr>\n",
       "      <th>9</th>\n",
       "      <td>PPE09182210</td>\n",
       "      <td>3</td>\n",
       "    </tr>\n",
       "    <tr>\n",
       "      <th>10</th>\n",
       "      <td>PPE09182211</td>\n",
       "      <td>4</td>\n",
       "    </tr>\n",
       "    <tr>\n",
       "      <th>11</th>\n",
       "      <td>PPE09182212</td>\n",
       "      <td>3</td>\n",
       "    </tr>\n",
       "    <tr>\n",
       "      <th>12</th>\n",
       "      <td>PPE09182213</td>\n",
       "      <td>4</td>\n",
       "    </tr>\n",
       "    <tr>\n",
       "      <th>13</th>\n",
       "      <td>PPE09182214</td>\n",
       "      <td>2</td>\n",
       "    </tr>\n",
       "    <tr>\n",
       "      <th>14</th>\n",
       "      <td>PPE09182215</td>\n",
       "      <td>2</td>\n",
       "    </tr>\n",
       "    <tr>\n",
       "      <th>15</th>\n",
       "      <td>PPE09182216</td>\n",
       "      <td>3</td>\n",
       "    </tr>\n",
       "    <tr>\n",
       "      <th>16</th>\n",
       "      <td>PPE09182217</td>\n",
       "      <td>4</td>\n",
       "    </tr>\n",
       "    <tr>\n",
       "      <th>17</th>\n",
       "      <td>PPE09182218</td>\n",
       "      <td>4</td>\n",
       "    </tr>\n",
       "    <tr>\n",
       "      <th>18</th>\n",
       "      <td>PPE09182219</td>\n",
       "      <td>3</td>\n",
       "    </tr>\n",
       "    <tr>\n",
       "      <th>19</th>\n",
       "      <td>PPE09182220</td>\n",
       "      <td>3</td>\n",
       "    </tr>\n",
       "    <tr>\n",
       "      <th>20</th>\n",
       "      <td>PPE09182221</td>\n",
       "      <td>3</td>\n",
       "    </tr>\n",
       "    <tr>\n",
       "      <th>21</th>\n",
       "      <td>PPE10082201</td>\n",
       "      <td>4</td>\n",
       "    </tr>\n",
       "    <tr>\n",
       "      <th>22</th>\n",
       "      <td>PPE10082202</td>\n",
       "      <td>3</td>\n",
       "    </tr>\n",
       "    <tr>\n",
       "      <th>23</th>\n",
       "      <td>PPE10082203</td>\n",
       "      <td>3</td>\n",
       "    </tr>\n",
       "    <tr>\n",
       "      <th>24</th>\n",
       "      <td>PPE10082205</td>\n",
       "      <td>4</td>\n",
       "    </tr>\n",
       "    <tr>\n",
       "      <th>25</th>\n",
       "      <td>PPE10082206</td>\n",
       "      <td>4</td>\n",
       "    </tr>\n",
       "    <tr>\n",
       "      <th>26</th>\n",
       "      <td>PPE10082207</td>\n",
       "      <td>3</td>\n",
       "    </tr>\n",
       "    <tr>\n",
       "      <th>27</th>\n",
       "      <td>PPE10082208</td>\n",
       "      <td>3</td>\n",
       "    </tr>\n",
       "    <tr>\n",
       "      <th>28</th>\n",
       "      <td>PPE10082209</td>\n",
       "      <td>4</td>\n",
       "    </tr>\n",
       "    <tr>\n",
       "      <th>29</th>\n",
       "      <td>PPE10082210</td>\n",
       "      <td>3</td>\n",
       "    </tr>\n",
       "    <tr>\n",
       "      <th>30</th>\n",
       "      <td>PPE10082211</td>\n",
       "      <td>4</td>\n",
       "    </tr>\n",
       "    <tr>\n",
       "      <th>31</th>\n",
       "      <td>PPE10082212</td>\n",
       "      <td>2</td>\n",
       "    </tr>\n",
       "    <tr>\n",
       "      <th>32</th>\n",
       "      <td>PPE10082213</td>\n",
       "      <td>3</td>\n",
       "    </tr>\n",
       "    <tr>\n",
       "      <th>33</th>\n",
       "      <td>PPE10082214</td>\n",
       "      <td>4</td>\n",
       "    </tr>\n",
       "    <tr>\n",
       "      <th>34</th>\n",
       "      <td>PPE10082215</td>\n",
       "      <td>3</td>\n",
       "    </tr>\n",
       "    <tr>\n",
       "      <th>35</th>\n",
       "      <td>PPE10082216</td>\n",
       "      <td>3</td>\n",
       "    </tr>\n",
       "    <tr>\n",
       "      <th>36</th>\n",
       "      <td>PPE10082217</td>\n",
       "      <td>2</td>\n",
       "    </tr>\n",
       "    <tr>\n",
       "      <th>37</th>\n",
       "      <td>PPE10082218</td>\n",
       "      <td>4</td>\n",
       "    </tr>\n",
       "  </tbody>\n",
       "</table>\n",
       "</div>"
      ],
      "text/plain": [
       "      Sequence   Score\n",
       "0   PPE09182201      4\n",
       "1   PPE09182202      4\n",
       "2   PPE09182203      2\n",
       "3   PPE09182204      4\n",
       "4   PPE09182205      2\n",
       "5   PPE09182206      4\n",
       "6   PPE09182207      3\n",
       "7   PPE09182208      3\n",
       "8   PPE09182209      2\n",
       "9   PPE09182210      3\n",
       "10  PPE09182211      4\n",
       "11  PPE09182212      3\n",
       "12  PPE09182213      4\n",
       "13  PPE09182214      2\n",
       "14  PPE09182215      2\n",
       "15  PPE09182216      3\n",
       "16  PPE09182217      4\n",
       "17  PPE09182218      4\n",
       "18  PPE09182219      3\n",
       "19  PPE09182220      3\n",
       "20  PPE09182221      3\n",
       "21  PPE10082201      4\n",
       "22  PPE10082202      3\n",
       "23  PPE10082203      3\n",
       "24  PPE10082205      4\n",
       "25  PPE10082206      4\n",
       "26  PPE10082207      3\n",
       "27  PPE10082208      3\n",
       "28  PPE10082209      4\n",
       "29  PPE10082210      3\n",
       "30  PPE10082211      4\n",
       "31  PPE10082212      2\n",
       "32  PPE10082213      3\n",
       "33  PPE10082214      4\n",
       "34  PPE10082215      3\n",
       "35  PPE10082216      3\n",
       "36  PPE10082217      2\n",
       "37  PPE10082218      4"
      ]
     },
     "execution_count": 8,
     "metadata": {},
     "output_type": "execute_result"
    }
   ],
   "source": [
    "import pandas as pd\n",
    "\n",
    "score_sheet = os.path.join(parent_dir, 'scores.xlsx')\n",
    "xl_file = pd.read_excel(score_sheet, sheet_name=None)\n",
    "df_labels = xl_file['Sheet1']\n",
    "df_labels"
   ]
  },
  {
   "cell_type": "code",
   "execution_count": 9,
   "id": "2e5ec6b5",
   "metadata": {},
   "outputs": [
    {
     "data": {
      "text/plain": [
       "'./data/All PPE Folders\\\\PPE09182201'"
      ]
     },
     "execution_count": 9,
     "metadata": {},
     "output_type": "execute_result"
    }
   ],
   "source": [
    "files[0]"
   ]
  },
  {
   "cell_type": "markdown",
   "id": "1b2ca74f",
   "metadata": {},
   "source": [
    "# Dataloader"
   ]
  },
  {
   "cell_type": "code",
   "execution_count": 66,
   "id": "e93480f9",
   "metadata": {},
   "outputs": [],
   "source": [
    "import numpy as np\n",
    "import matplotlib.pyplot as plt\n",
    "import os\n",
    "from torch.utils.data import Dataset, DataLoader\n",
    "import math\n",
    "\n",
    "import torch\n",
    "import torch.nn as nn\n"
   ]
  },
  {
   "cell_type": "code",
   "execution_count": 84,
   "id": "00c68d22",
   "metadata": {},
   "outputs": [
    {
     "name": "stderr",
     "output_type": "stream",
     "text": [
      "100%|██████████████████████████████████████████████████████████████████████████████████| 38/38 [00:42<00:00,  1.12s/it]\n"
     ]
    }
   ],
   "source": [
    "from tqdm import tqdm, trange\n",
    "\n",
    "window = 50\n",
    "skip = 1\n",
    "features = 36\n",
    "\n",
    "sequences = []\n",
    "labels = []\n",
    "\n",
    "for i in trange(len(files)):\n",
    "    \n",
    "    motion_name = \"SQT01.mot\"\n",
    "    motion_data = os.path.join(files[i], motion_name)\n",
    "    score = df_labels.loc[df_labels['Sequence '] == files[i][23:], 'Score']\n",
    "\n",
    "\n",
    "    with open(motion_data) as f:\n",
    "        d = f.read().splitlines()\n",
    "\n",
    "    nrows, ncols = int(d[2].split(\"=\")[1]), int(d[3].split(\"=\")[1])\n",
    "    headers = d[10].split(\"\\t\")\n",
    "\n",
    "    df = []\n",
    "    for l in d[11:]:\n",
    "        df.append([float(x) for x in l.split('\\t')])\n",
    "\n",
    "    df = pd.DataFrame(df, columns=headers)\n",
    "    arr = df.to_numpy()\n",
    "    \n",
    "    start = 0\n",
    "    \n",
    "    while start < len(df):\n",
    "        rows = [row.to_numpy() for _, row in df[start:start+window].iterrows()]\n",
    "        stacked_rows = np.vstack(rows)\n",
    "\n",
    "        if stacked_rows.shape[0] == window and stacked_rows.shape[1] == features:\n",
    "            sequences.append(stacked_rows)\n",
    "            labels.append([int(score)])\n",
    "        start += skip\n",
    "    \n",
    "\n"
   ]
  },
  {
   "cell_type": "code",
   "execution_count": 85,
   "id": "23af76b9",
   "metadata": {},
   "outputs": [
    {
     "data": {
      "image/png": "[encoded data removed]",
      "text/plain": [
       "<Figure size 432x288 with 1 Axes>"
      ]
     },
     "metadata": {
      "needs_background": "light"
     },
     "output_type": "display_data"
    }
   ],
   "source": [
    "from collections import Counter \n",
    "\n",
    "original_dist = [l[0] for l in labels]\n",
    "counter = Counter(original_dist)\n",
    "x_data = list(counter.keys())\n",
    "y_data = list(counter.values())\n",
    "plt.bar(x_data, y_data, width = 0.5, color = 'orange', alpha = 0.5)\n",
    "\n",
    "# Add labels\n",
    "plt.xlabel('Class')\n",
    "plt.ylabel('Frequency')\n",
    "plt.title('Original data distribution')\n",
    "\n",
    "# Show plot\n",
    "plt.show()\n"
   ]
  },
  {
   "cell_type": "code",
   "execution_count": 86,
   "id": "794718a3",
   "metadata": {},
   "outputs": [
    {
     "data": {
      "text/plain": [
       "(24157, 24157)"
      ]
     },
     "execution_count": 86,
     "metadata": {},
     "output_type": "execute_result"
    }
   ],
   "source": [
    "len(sequences), len(labels)"
   ]
  },
  {
   "cell_type": "code",
   "execution_count": 87,
   "id": "4287011e",
   "metadata": {},
   "outputs": [],
   "source": [
    "from sklearn.model_selection import train_test_split\n",
    "from sklearn.preprocessing import StandardScaler\n",
    "import numpy as np\n",
    "\n",
    "X_train, X_test, y_train, y_test = train_test_split(sequences, labels, random_state=42, test_size=0.2, shuffle=True)\n"
   ]
  },
  {
   "cell_type": "code",
   "execution_count": 88,
   "id": "392e218e",
   "metadata": {},
   "outputs": [
    {
     "data": {
      "text/plain": [
       "(19325, 4832, 19325, 4832)"
      ]
     },
     "execution_count": 88,
     "metadata": {},
     "output_type": "execute_result"
    }
   ],
   "source": [
    "len(X_train), len(X_test), len(y_train), len(y_test)"
   ]
  },
  {
   "cell_type": "code",
   "execution_count": 89,
   "id": "d4d73111",
   "metadata": {},
   "outputs": [],
   "source": [
    "# hyper parameters\n",
    "\n",
    "num_epochs = 30\n",
    "batch_size = 32\n",
    "learning_rate = 0.001\n",
    "num_classes = 5"
   ]
  },
  {
   "cell_type": "code",
   "execution_count": 90,
   "id": "4c9e9f0f",
   "metadata": {},
   "outputs": [],
   "source": [
    "from torch.utils.tensorboard import SummaryWriter\n",
    "writer = SummaryWriter()"
   ]
  },
  {
   "cell_type": "code",
   "execution_count": 91,
   "id": "25cdff9b",
   "metadata": {},
   "outputs": [],
   "source": [
    "# device config\n",
    "DEVICE = torch.device('cuda' if torch.cuda.is_available() else 'cpu')"
   ]
  },
  {
   "cell_type": "code",
   "execution_count": 92,
   "id": "a288fa47",
   "metadata": {},
   "outputs": [],
   "source": [
    "class SliceDataset(Dataset):\n",
    "    \n",
    "    def __init__(self, train = True):\n",
    "        self.train = train\n",
    "        if self.train:\n",
    "            self.X = np.array(X_train)\n",
    "            self.y = np.array(y_train)\n",
    "    \n",
    "        else:\n",
    "            self.X = np.array(X_test)\n",
    "            self.y = np.array(y_test)\n",
    "\n",
    "    def __len__(self):\n",
    "        return len(self.X)\n",
    "    \n",
    "    def __getitem__(self, index):\n",
    "        return torch.from_numpy(self.X[index].astype(np.float32)), torch.from_numpy(self.y[index].astype(np.int64))\n",
    "   "
   ]
  },
  {
   "cell_type": "code",
   "execution_count": 93,
   "id": "aa5317db",
   "metadata": {},
   "outputs": [
    {
     "name": "stdout",
     "output_type": "stream",
     "text": [
      "604\n",
      "torch.Size([32, 50, 36]) torch.Size([32, 1])\n"
     ]
    }
   ],
   "source": [
    "dataset = SliceDataset(train = True)\n",
    "dataloader = DataLoader(dataset = dataset, batch_size = batch_size, shuffle = True, num_workers = 0)\n",
    "\n",
    "# Next 4 lines are just to see the data for batch_size = 4 and NOT a part of pipeline\n",
    "\n",
    "print(len(dataloader))\n",
    "dataiter = iter(dataloader)\n",
    "data = dataiter.next()\n",
    "seq, lbl = data\n",
    "print(seq.shape, lbl.shape)"
   ]
  },
  {
   "cell_type": "markdown",
   "id": "45a3c616",
   "metadata": {},
   "source": [
    "# MLP Model"
   ]
  },
  {
   "cell_type": "code",
   "execution_count": 94,
   "id": "e5d6695e",
   "metadata": {},
   "outputs": [],
   "source": [
    "class SquatClassifier(nn.Module):\n",
    "    def __init__(self, input_size, hidden_size, num_classes):\n",
    "        super(SquatClassifier, self).__init__()\n",
    "        self.fc1 = nn.Linear(input_size, hidden_size)\n",
    "        self.relu = nn.ReLU()\n",
    "        self.fc2 = nn.Linear(hidden_size, num_classes)\n",
    "\n",
    "    def forward(self, x):\n",
    "        out = self.fc1(x)\n",
    "        out = self.relu(out)\n",
    "        out = self.fc2(out)\n",
    "        return out\n"
   ]
  },
  {
   "cell_type": "code",
   "execution_count": 95,
   "id": "10a7d7c5",
   "metadata": {},
   "outputs": [],
   "source": [
    "input_size = window*features\n",
    "hidden_size = 100"
   ]
  },
  {
   "cell_type": "code",
   "execution_count": 96,
   "id": "e36586d3",
   "metadata": {},
   "outputs": [],
   "source": [
    "model = SquatClassifier(input_size, hidden_size, num_classes)\n",
    "model = model.to(DEVICE)\n",
    "criterion = nn.CrossEntropyLoss()\n",
    "optimizer = torch.optim.Adam(model.parameters(), lr = learning_rate)"
   ]
  },
  {
   "cell_type": "code",
   "execution_count": 97,
   "id": "3fc45c44",
   "metadata": {},
   "outputs": [
    {
     "name": "stderr",
     "output_type": "stream",
     "text": [
      "\r",
      "  0%|                                                                                           | 0/30 [00:00<?, ?it/s]"
     ]
    },
    {
     "name": "stdout",
     "output_type": "stream",
     "text": [
      "epoch 1 / 30, step 500/604, loss = 1.2060\n"
     ]
    },
    {
     "name": "stderr",
     "output_type": "stream",
     "text": [
      "\r",
      "  3%|██▊                                                                                | 1/30 [00:01<00:41,  1.43s/it]"
     ]
    },
    {
     "name": "stdout",
     "output_type": "stream",
     "text": [
      "epoch 2 / 30, step 500/604, loss = 0.2277\n"
     ]
    },
    {
     "name": "stderr",
     "output_type": "stream",
     "text": [
      "\r",
      "  7%|█████▌                                                                             | 2/30 [00:02<00:36,  1.30s/it]"
     ]
    },
    {
     "name": "stdout",
     "output_type": "stream",
     "text": [
      "epoch 3 / 30, step 500/604, loss = 0.1825\n"
     ]
    },
    {
     "name": "stderr",
     "output_type": "stream",
     "text": [
      "\r",
      " 10%|████████▎                                                                          | 3/30 [00:03<00:34,  1.27s/it]"
     ]
    },
    {
     "name": "stdout",
     "output_type": "stream",
     "text": [
      "epoch 4 / 30, step 500/604, loss = 0.2613\n"
     ]
    },
    {
     "name": "stderr",
     "output_type": "stream",
     "text": [
      "\r",
      " 13%|███████████                                                                        | 4/30 [00:05<00:32,  1.25s/it]"
     ]
    },
    {
     "name": "stdout",
     "output_type": "stream",
     "text": [
      "epoch 5 / 30, step 500/604, loss = 0.0275\n"
     ]
    },
    {
     "name": "stderr",
     "output_type": "stream",
     "text": [
      "\r",
      " 17%|█████████████▊                                                                     | 5/30 [00:06<00:30,  1.23s/it]"
     ]
    },
    {
     "name": "stdout",
     "output_type": "stream",
     "text": [
      "epoch 6 / 30, step 500/604, loss = 0.0857\n"
     ]
    },
    {
     "name": "stderr",
     "output_type": "stream",
     "text": [
      "\r",
      " 20%|████████████████▌                                                                  | 6/30 [00:07<00:29,  1.23s/it]"
     ]
    },
    {
     "name": "stdout",
     "output_type": "stream",
     "text": [
      "epoch 7 / 30, step 500/604, loss = 0.0949\n"
     ]
    },
    {
     "name": "stderr",
     "output_type": "stream",
     "text": [
      "\r",
      " 23%|███████████████████▎                                                               | 7/30 [00:08<00:28,  1.23s/it]"
     ]
    },
    {
     "name": "stdout",
     "output_type": "stream",
     "text": [
      "epoch 8 / 30, step 500/604, loss = 0.0666\n"
     ]
    },
    {
     "name": "stderr",
     "output_type": "stream",
     "text": [
      "\r",
      " 27%|██████████████████████▏                                                            | 8/30 [00:09<00:26,  1.22s/it]"
     ]
    },
    {
     "name": "stdout",
     "output_type": "stream",
     "text": [
      "epoch 9 / 30, step 500/604, loss = 0.4916\n"
     ]
    },
    {
     "name": "stderr",
     "output_type": "stream",
     "text": [
      "\r",
      " 30%|████████████████████████▉                                                          | 9/30 [00:11<00:25,  1.22s/it]"
     ]
    },
    {
     "name": "stdout",
     "output_type": "stream",
     "text": [
      "epoch 10 / 30, step 500/604, loss = 0.3586\n"
     ]
    },
    {
     "name": "stderr",
     "output_type": "stream",
     "text": [
      "\r",
      " 33%|███████████████████████████▎                                                      | 10/30 [00:12<00:24,  1.22s/it]"
     ]
    },
    {
     "name": "stdout",
     "output_type": "stream",
     "text": [
      "epoch 11 / 30, step 500/604, loss = 0.0618\n"
     ]
    },
    {
     "name": "stderr",
     "output_type": "stream",
     "text": [
      "\r",
      " 37%|██████████████████████████████                                                    | 11/30 [00:13<00:23,  1.22s/it]"
     ]
    },
    {
     "name": "stdout",
     "output_type": "stream",
     "text": [
      "epoch 12 / 30, step 500/604, loss = 0.0425\n"
     ]
    },
    {
     "name": "stderr",
     "output_type": "stream",
     "text": [
      "\r",
      " 40%|████████████████████████████████▊                                                 | 12/30 [00:14<00:22,  1.22s/it]"
     ]
    },
    {
     "name": "stdout",
     "output_type": "stream",
     "text": [
      "epoch 13 / 30, step 500/604, loss = 0.0154\n"
     ]
    },
    {
     "name": "stderr",
     "output_type": "stream",
     "text": [
      "\r",
      " 43%|███████████████████████████████████▌                                              | 13/30 [00:16<00:20,  1.22s/it]"
     ]
    },
    {
     "name": "stdout",
     "output_type": "stream",
     "text": [
      "epoch 14 / 30, step 500/604, loss = 0.0167\n"
     ]
    },
    {
     "name": "stderr",
     "output_type": "stream",
     "text": [
      "\r",
      " 47%|██████████████████████████████████████▎                                           | 14/30 [00:17<00:19,  1.22s/it]"
     ]
    },
    {
     "name": "stdout",
     "output_type": "stream",
     "text": [
      "epoch 15 / 30, step 500/604, loss = 0.0576\n"
     ]
    },
    {
     "name": "stderr",
     "output_type": "stream",
     "text": [
      "\r",
      " 50%|█████████████████████████████████████████                                         | 15/30 [00:18<00:18,  1.22s/it]"
     ]
    },
    {
     "name": "stdout",
     "output_type": "stream",
     "text": [
      "epoch 16 / 30, step 500/604, loss = 0.0858\n"
     ]
    },
    {
     "name": "stderr",
     "output_type": "stream",
     "text": [
      "\r",
      " 53%|███████████████████████████████████████████▋                                      | 16/30 [00:19<00:17,  1.22s/it]"
     ]
    },
    {
     "name": "stdout",
     "output_type": "stream",
     "text": [
      "epoch 17 / 30, step 500/604, loss = 0.1053\n"
     ]
    },
    {
     "name": "stderr",
     "output_type": "stream",
     "text": [
      "\r",
      " 57%|██████████████████████████████████████████████▍                                   | 17/30 [00:20<00:15,  1.22s/it]"
     ]
    },
    {
     "name": "stdout",
     "output_type": "stream",
     "text": [
      "epoch 18 / 30, step 500/604, loss = 0.0682\n"
     ]
    },
    {
     "name": "stderr",
     "output_type": "stream",
     "text": [
      "\r",
      " 60%|█████████████████████████████████████████████████▏                                | 18/30 [00:22<00:14,  1.22s/it]"
     ]
    },
    {
     "name": "stdout",
     "output_type": "stream",
     "text": [
      "epoch 19 / 30, step 500/604, loss = 0.0677\n"
     ]
    },
    {
     "name": "stderr",
     "output_type": "stream",
     "text": [
      "\r",
      " 63%|███████████████████████████████████████████████████▉                              | 19/30 [00:23<00:13,  1.22s/it]"
     ]
    },
    {
     "name": "stdout",
     "output_type": "stream",
     "text": [
      "epoch 20 / 30, step 500/604, loss = 0.1999\n"
     ]
    },
    {
     "name": "stderr",
     "output_type": "stream",
     "text": [
      "\r",
      " 67%|██████████████████████████████████████████████████████▋                           | 20/30 [00:24<00:12,  1.22s/it]"
     ]
    },
    {
     "name": "stdout",
     "output_type": "stream",
     "text": [
      "epoch 21 / 30, step 500/604, loss = 0.1063\n"
     ]
    },
    {
     "name": "stderr",
     "output_type": "stream",
     "text": [
      "\r",
      " 70%|█████████████████████████████████████████████████████████▍                        | 21/30 [00:25<00:11,  1.22s/it]"
     ]
    },
    {
     "name": "stdout",
     "output_type": "stream",
     "text": [
      "epoch 22 / 30, step 500/604, loss = 0.0018\n"
     ]
    },
    {
     "name": "stderr",
     "output_type": "stream",
     "text": [
      "\r",
      " 73%|████████████████████████████████████████████████████████████▏                     | 22/30 [00:27<00:09,  1.22s/it]"
     ]
    },
    {
     "name": "stdout",
     "output_type": "stream",
     "text": [
      "epoch 23 / 30, step 500/604, loss = 0.0102\n"
     ]
    },
    {
     "name": "stderr",
     "output_type": "stream",
     "text": [
      " 80%|█████████████████████████████████████████████████████████████████▌                | 24/30 [00:29<00:07,  1.22s/it]"
     ]
    },
    {
     "name": "stdout",
     "output_type": "stream",
     "text": [
      "epoch 24 / 30, step 500/604, loss = 0.0982\n",
      "epoch 25 / 30, step 500/604, loss = 0.0054\n"
     ]
    },
    {
     "name": "stderr",
     "output_type": "stream",
     "text": [
      "\r",
      " 83%|████████████████████████████████████████████████████████████████████▎             | 25/30 [00:30<00:06,  1.22s/it]"
     ]
    },
    {
     "name": "stdout",
     "output_type": "stream",
     "text": [
      "epoch 26 / 30, step 500/604, loss = 0.4333\n"
     ]
    },
    {
     "name": "stderr",
     "output_type": "stream",
     "text": [
      "\r",
      " 87%|███████████████████████████████████████████████████████████████████████           | 26/30 [00:31<00:04,  1.22s/it]"
     ]
    },
    {
     "name": "stdout",
     "output_type": "stream",
     "text": [
      "epoch 27 / 30, step 500/604, loss = 0.0794\n"
     ]
    },
    {
     "name": "stderr",
     "output_type": "stream",
     "text": [
      "\r",
      " 90%|█████████████████████████████████████████████████████████████████████████▊        | 27/30 [00:33<00:03,  1.23s/it]"
     ]
    },
    {
     "name": "stdout",
     "output_type": "stream",
     "text": [
      "epoch 28 / 30, step 500/604, loss = 0.0285\n"
     ]
    },
    {
     "name": "stderr",
     "output_type": "stream",
     "text": [
      "\r",
      " 93%|████████████████████████████████████████████████████████████████████████████▌     | 28/30 [00:34<00:02,  1.24s/it]"
     ]
    },
    {
     "name": "stdout",
     "output_type": "stream",
     "text": [
      "epoch 29 / 30, step 500/604, loss = 0.0978\n"
     ]
    },
    {
     "name": "stderr",
     "output_type": "stream",
     "text": [
      "\r",
      " 97%|███████████████████████████████████████████████████████████████████████████████▎  | 29/30 [00:35<00:01,  1.25s/it]"
     ]
    },
    {
     "name": "stdout",
     "output_type": "stream",
     "text": [
      "epoch 30 / 30, step 500/604, loss = 0.0118\n"
     ]
    },
    {
     "name": "stderr",
     "output_type": "stream",
     "text": [
      "100%|██████████████████████████████████████████████████████████████████████████████████| 30/30 [00:36<00:00,  1.23s/it]\n"
     ]
    }
   ],
   "source": [
    "n_total_steps = len(dataloader)\n",
    "\n",
    "losses = []\n",
    "batch_losses = []\n",
    "for epoch in trange(num_epochs):\n",
    "    \n",
    "    running_loss = 0.0\n",
    "    for i, (seqs, labels) in enumerate(dataloader):\n",
    "        \n",
    "        seqs = seqs.reshape(-1, window*features).to(DEVICE)\n",
    "        labels = labels.to(DEVICE)\n",
    "\n",
    "        # Forward\n",
    "        outputs = model(seqs)\n",
    "#         print(outputs.shape)\n",
    "#         print(outputs)\n",
    "        loss = criterion(outputs, labels.squeeze(1))\n",
    "        \n",
    "        # Backward\n",
    "        optimizer.zero_grad()\n",
    "        loss.backward()\n",
    "        optimizer.step()\n",
    "        \n",
    "#         print(loss.item())\n",
    "        running_loss += loss.item()\n",
    "        \n",
    "        \n",
    "        \n",
    "        if (i+1) % 500 == 0:\n",
    "            print(f'epoch {epoch+1} / {num_epochs}, step {i+1}/{n_total_steps}, loss = {loss.item():.4f}')\n",
    "    \n",
    "    losses.append(running_loss / len(dataloader))\n",
    "    \n",
    "            "
   ]
  },
  {
   "cell_type": "code",
   "execution_count": 98,
   "id": "91941b12",
   "metadata": {},
   "outputs": [
    {
     "data": {
      "image/png": "[encoded data removed]",
      "text/plain": [
       "<Figure size 432x288 with 1 Axes>"
      ]
     },
     "metadata": {
      "needs_background": "light"
     },
     "output_type": "display_data"
    }
   ],
   "source": [
    "import matplotlib.pyplot as plt\n",
    "\n",
    "plt.plot(losses)\n",
    "plt.xlabel('Epoch')\n",
    "plt.ylabel('Loss')\n",
    "plt.title('Training Loss vs Epochs')\n",
    "plt.show()"
   ]
  },
  {
   "cell_type": "markdown",
   "id": "8ff61140",
   "metadata": {},
   "source": [
    "# Inference"
   ]
  },
  {
   "cell_type": "code",
   "execution_count": 99,
   "id": "7e014ed4",
   "metadata": {},
   "outputs": [
    {
     "name": "stdout",
     "output_type": "stream",
     "text": [
      "4832\n",
      "torch.Size([1, 50, 36]) torch.Size([1, 1])\n"
     ]
    }
   ],
   "source": [
    "batch_size = 1\n",
    "dataset = SliceDataset(train = False)\n",
    "test_loader = DataLoader(dataset = dataset, batch_size = batch_size, shuffle = True, num_workers = 0)\n",
    "\n",
    "# Next 4 lines are just to see the data for batch_size = 4 and NOT a part of pipeline\n",
    "\n",
    "print(len(test_loader))\n",
    "dataiter = iter(test_loader)\n",
    "data = dataiter.next()\n",
    "seq, lbl = data\n",
    "print(seq.shape, lbl.shape)"
   ]
  },
  {
   "cell_type": "code",
   "execution_count": 100,
   "id": "2cbe1dc6",
   "metadata": {},
   "outputs": [
    {
     "name": "stdout",
     "output_type": "stream",
     "text": [
      "Accuracy: 0.9509519867549668\n",
      "Class-2 Accuracy:  0.9975349219391948\n",
      "Class-3 Accuracy:  0.889199776161164\n",
      "Class-4 Accuracy:  0.9803063457330415\n"
     ]
    }
   ],
   "source": [
    "# Initialize variables to store the number of correct and total predictions\n",
    "\n",
    "lbls, preds = [], []\n",
    "correct = 0\n",
    "total = 0\n",
    "class2, class3, class4 = 0, 0, 0\n",
    "correct_class2, correct_class3, correct_class4  = 0, 0, 0\n",
    "\n",
    "# Turn off gradients and set the model to evaluation mode\n",
    "with torch.no_grad():\n",
    "    model.eval()\n",
    "    for data in test_loader:\n",
    "        inputs, labels = data\n",
    "        inputs = inputs.reshape(-1, window*features).to(DEVICE)\n",
    "        labels = labels.to(DEVICE)\n",
    "        outputs = model(inputs)\n",
    "        \n",
    "        # Get the predictions by finding the class with the maximum probability\n",
    "        _, predicted = torch.max(outputs.data, 1)\n",
    "        \n",
    "#         print(predicted, labels)\n",
    "        total += labels.size(0)\n",
    "        \n",
    "        correct += (predicted == labels).sum().item()\n",
    "        lbls.append(labels.item())\n",
    "        preds.append(predicted.item())\n",
    "        \n",
    "        class2 += (labels == 2).sum().item()\n",
    "        class3 += (labels == 3).sum().item()\n",
    "        class4 += (labels == 4).sum().item()\n",
    "        \n",
    "        correct_class2 += (predicted == labels and labels == 2).sum().item()\n",
    "        correct_class3 += (predicted == labels and labels == 3).sum().item()\n",
    "        correct_class4 += (predicted == labels and labels == 4).sum().item()\n",
    "        \n",
    "\n",
    "# Calculate the accuracy of the model\n",
    "accuracy = correct / total\n",
    "print('Accuracy:', accuracy)\n",
    "print('Class-2 Accuracy: ', correct_class2 / class2)\n",
    "print('Class-3 Accuracy: ', correct_class3 / class3)\n",
    "print('Class-4 Accuracy: ', correct_class4 / class4)"
   ]
  },
  {
   "cell_type": "code",
   "execution_count": 205,
   "id": "a333d761",
   "metadata": {},
   "outputs": [
    {
     "name": "stdout",
     "output_type": "stream",
     "text": [
      "Counter({4: 1828, 3: 1787, 2: 1217}) Counter({4: 1887, 3: 1737, 2: 1208})\n"
     ]
    }
   ],
   "source": [
    "from collections import Counter \n",
    "counter_labels = Counter(lbls)\n",
    "counter_preds = Counter(preds)\n",
    "print(counter_labels, counter_preds)"
   ]
  },
  {
   "cell_type": "code",
   "execution_count": 264,
   "id": "22315188",
   "metadata": {},
   "outputs": [
    {
     "data": {
      "image/png": "[encoded data removed]",
      "text/plain": [
       "<Figure size 432x288 with 1 Axes>"
      ]
     },
     "metadata": {
      "needs_background": "light"
     },
     "output_type": "display_data"
    }
   ],
   "source": [
    "x1 = list(counter_labels.keys())\n",
    "y1 = list(counter_labels.values())\n",
    "\n",
    "x2 = list(counter_preds.keys())\n",
    "y2 = list(counter_preds.values())\n",
    "\n",
    "# Plot the class frequencies using a bar plot\n",
    "plt.bar(x1, y1, width=0.6, alpha = 1, label = 'True Labels')\n",
    "plt.bar(x2, y2, width=0.6, alpha = 0.5, label = 'Predictions')\n",
    "\n",
    "# Add labels and title to the plot\n",
    "plt.xlabel('Class Labels')\n",
    "plt.ylabel('Frequency')\n",
    "plt.title('Class Frequency Distribution')\n",
    "plt.legend()\n",
    "\n",
    "# Show the plot\n",
    "plt.show()\n"
   ]
  },
  {
   "cell_type": "code",
   "execution_count": 262,
   "id": "bc380307",
   "metadata": {},
   "outputs": [
    {
     "data": {
      "image/png": "[encoded data removed]",
      "text/plain": [
       "<Figure size 432x288 with 1 Axes>"
      ]
     },
     "metadata": {
      "needs_background": "light"
     },
     "output_type": "display_data"
    }
   ],
   "source": [
    "plt.bar(x1, y1, color='blue', width=0.25, label='True labels', alpha = 1)\n",
    "\n",
    "# Plot second bar plot with shifted x-coordinates\n",
    "plt.bar(x2, y2, color='g', width=0.25, label='Predictions',\n",
    "        align='edge', alpha = 1)\n",
    "\n",
    "# Add labels and legend\n",
    "plt.xlabel('Class labels')\n",
    "plt.ylabel('Frequency')\n",
    "plt.legend()\n",
    "\n",
    "# Show plot\n",
    "plt.show()"
   ]
  },
  {
   "cell_type": "markdown",
   "id": "00080dcb",
   "metadata": {},
   "source": [
    "# Random Forest"
   ]
  },
  {
   "cell_type": "code",
   "execution_count": 320,
   "id": "8da27d20",
   "metadata": {},
   "outputs": [
    {
     "name": "stderr",
     "output_type": "stream",
     "text": [
      "100%|██████████████████████████████████████████████████████████████████████████████████| 38/38 [03:13<00:00,  5.08s/it]\n"
     ]
    }
   ],
   "source": [
    "from tqdm import tqdm, trange\n",
    "\n",
    "window = 150\n",
    "skip = 1\n",
    "features = 36\n",
    "\n",
    "sequences = []\n",
    "labels = []\n",
    "\n",
    "for i in trange(len(files)):\n",
    "    \n",
    "    motion_name = \"SQT01.mot\"\n",
    "    motion_data = os.path.join(files[i], motion_name)\n",
    "    score = df_labels.loc[df_labels['Sequence '] == files[i][23:], 'Score']\n",
    "\n",
    "\n",
    "    with open(motion_data) as f:\n",
    "        d = f.read().splitlines()\n",
    "\n",
    "    nrows, ncols = int(d[2].split(\"=\")[1]), int(d[3].split(\"=\")[1])\n",
    "    headers = d[10].split(\"\\t\")\n",
    "\n",
    "    df = []\n",
    "    for l in d[11:]:\n",
    "        df.append([float(x) for x in l.split('\\t')])\n",
    "\n",
    "    df = pd.DataFrame(df, columns=headers)\n",
    "    arr = df.to_numpy()\n",
    "    \n",
    "    start = 0\n",
    "    \n",
    "    while start < len(df):\n",
    "        rows = [row.to_numpy() for _, row in df[start:start+window].iterrows()]\n",
    "        stacked_rows = np.hstack(rows)\n",
    "        if stacked_rows.shape[0] == window*features:\n",
    "            sequences.append(stacked_rows)\n",
    "            labels.append(int(score))\n",
    "        start += skip\n",
    "    \n",
    "\n"
   ]
  },
  {
   "cell_type": "code",
   "execution_count": 321,
   "id": "94d617b3",
   "metadata": {},
   "outputs": [
    {
     "data": {
      "text/plain": [
       "(20357, 20357)"
      ]
     },
     "execution_count": 321,
     "metadata": {},
     "output_type": "execute_result"
    }
   ],
   "source": [
    "len(labels), len(sequences)"
   ]
  },
  {
   "cell_type": "code",
   "execution_count": 322,
   "id": "d7c47e5f",
   "metadata": {},
   "outputs": [],
   "source": [
    "X = np.vstack(sequences)\n",
    "y = np.array(labels)\n",
    "\n",
    "from sklearn.preprocessing import LabelEncoder\n",
    "le = LabelEncoder()\n",
    "y = le.fit_transform(y)"
   ]
  },
  {
   "cell_type": "code",
   "execution_count": 323,
   "id": "e3ad8472",
   "metadata": {},
   "outputs": [
    {
     "data": {
      "text/plain": [
       "((20357, 5400), (20357,))"
      ]
     },
     "execution_count": 323,
     "metadata": {},
     "output_type": "execute_result"
    }
   ],
   "source": [
    "X.shape, y.shape"
   ]
  },
  {
   "cell_type": "code",
   "execution_count": 324,
   "id": "1dd90557",
   "metadata": {},
   "outputs": [],
   "source": [
    "from sklearn.metrics import accuracy_score\n",
    "from sklearn.model_selection import train_test_split\n",
    "from sklearn.preprocessing import StandardScaler\n",
    "\n",
    "X_train, X_test, y_train, y_test = train_test_split(X, y, random_state=42, test_size=0.2, shuffle=False)"
   ]
  },
  {
   "cell_type": "code",
   "execution_count": 325,
   "id": "877aa452",
   "metadata": {},
   "outputs": [
    {
     "data": {
      "text/plain": [
       "RandomForestClassifier(random_state=0)"
      ]
     },
     "execution_count": 325,
     "metadata": {},
     "output_type": "execute_result"
    }
   ],
   "source": [
    "import numpy as np\n",
    "import pandas as pd\n",
    "from sklearn.ensemble import RandomForestClassifier\n",
    "\n",
    "# Train a random forest classifier\n",
    "clf = RandomForestClassifier(n_estimators=100, random_state=0)\n",
    "clf.fit(X_train, y_train)\n"
   ]
  },
  {
   "cell_type": "code",
   "execution_count": 326,
   "id": "3614770d",
   "metadata": {},
   "outputs": [
    {
     "name": "stdout",
     "output_type": "stream",
     "text": [
      "Counter({1: 1854, 0: 1162, 2: 1056}) Counter({1: 2240, 2: 2140, 0: 72})\n"
     ]
    }
   ],
   "source": [
    "from collections import Counter\n",
    "\n",
    "print(Counter(y_test), Counter(y_pred))"
   ]
  },
  {
   "cell_type": "code",
   "execution_count": 327,
   "id": "0728d0d7",
   "metadata": {},
   "outputs": [
    {
     "name": "stdout",
     "output_type": "stream",
     "text": [
      "Accuracy:  0.5260314341846758\n"
     ]
    }
   ],
   "source": [
    "# Make predictions on the test data\n",
    "y_pred = clf.predict(X_test)\n",
    "\n",
    "# Calculate the accuracy of the classifier\n",
    "accuracy = accuracy_score(y_test, y_pred)\n",
    "print(\"Accuracy: \", accuracy)"
   ]
  },
  {
   "cell_type": "markdown",
   "id": "83162a4a",
   "metadata": {},
   "source": [
    "# XGBoost"
   ]
  },
  {
   "cell_type": "code",
   "execution_count": 10,
   "id": "a6916352",
   "metadata": {},
   "outputs": [],
   "source": [
    "from xgboost import XGBClassifier \n",
    "from sklearn.model_selection import cross_val_score"
   ]
  },
  {
   "cell_type": "code",
   "execution_count": 22,
   "id": "5cfa2d4e",
   "metadata": {},
   "outputs": [
    {
     "name": "stderr",
     "output_type": "stream",
     "text": [
      "100%|██████████████████████████████████████████████████████████████████████████████████| 38/38 [01:58<00:00,  3.11s/it]\n"
     ]
    }
   ],
   "source": [
    "from tqdm import tqdm, trange\n",
    "\n",
    "window = 150\n",
    "skip = 1\n",
    "features = 36\n",
    "\n",
    "sequences = []\n",
    "labels = []\n",
    "\n",
    "for i in trange(len(files)):\n",
    "    \n",
    "    motion_name = \"SQT01.mot\"\n",
    "    motion_data = os.path.join(files[i], motion_name)\n",
    "    score = df_labels.loc[df_labels['Sequence '] == files[i][23:], 'Score']\n",
    "\n",
    "\n",
    "    with open(motion_data) as f:\n",
    "        d = f.read().splitlines()\n",
    "\n",
    "    nrows, ncols = int(d[2].split(\"=\")[1]), int(d[3].split(\"=\")[1])\n",
    "    headers = d[10].split(\"\\t\")\n",
    "\n",
    "    df = []\n",
    "    for l in d[11:]:\n",
    "        df.append([float(x) for x in l.split('\\t')])\n",
    "\n",
    "    df = pd.DataFrame(df, columns=headers)\n",
    "    arr = df.to_numpy()\n",
    "    \n",
    "    start = 0\n",
    "    \n",
    "    while start < len(df):\n",
    "        rows = [row.to_numpy() for _, row in df[start:start+window].iterrows()]\n",
    "        stacked_rows = np.hstack(rows)\n",
    "        if stacked_rows.shape[0] == window*features:\n",
    "            sequences.append(stacked_rows)\n",
    "            labels.append(int(score))\n",
    "        start += skip\n",
    "    \n",
    "\n"
   ]
  },
  {
   "cell_type": "code",
   "execution_count": 23,
   "id": "180b4723",
   "metadata": {},
   "outputs": [
    {
     "data": {
      "text/plain": [
       "(20357, 20357)"
      ]
     },
     "execution_count": 23,
     "metadata": {},
     "output_type": "execute_result"
    }
   ],
   "source": [
    "len(labels), len(sequences)"
   ]
  },
  {
   "cell_type": "code",
   "execution_count": 24,
   "id": "1780eeea",
   "metadata": {},
   "outputs": [],
   "source": [
    "X = np.vstack(sequences)\n",
    "y = np.array(labels)\n",
    "\n",
    "from sklearn.preprocessing import LabelEncoder\n",
    "le = LabelEncoder()\n",
    "y = le.fit_transform(y)"
   ]
  },
  {
   "cell_type": "code",
   "execution_count": 25,
   "id": "00a92913",
   "metadata": {},
   "outputs": [
    {
     "data": {
      "text/plain": [
       "((20357, 5400), (20357,))"
      ]
     },
     "execution_count": 25,
     "metadata": {},
     "output_type": "execute_result"
    }
   ],
   "source": [
    "X.shape, y.shape"
   ]
  },
  {
   "cell_type": "code",
   "execution_count": 26,
   "id": "ecf40e3e",
   "metadata": {},
   "outputs": [],
   "source": [
    "import xgboost as xgb\n",
    "from sklearn.metrics import accuracy_score\n",
    "from sklearn.model_selection import train_test_split\n",
    "from sklearn.preprocessing import StandardScaler\n",
    "\n",
    "X_train, X_test, y_train, y_test = train_test_split(X, y, random_state=42, test_size=0.2, shuffle=False)"
   ]
  },
  {
   "cell_type": "code",
   "execution_count": 27,
   "id": "7b5eb68d",
   "metadata": {},
   "outputs": [],
   "source": [
    "# Convert data into XGBoost's DMatrix format\n",
    "dtrain = xgb.DMatrix(X_train, label=y_train)\n",
    "dtest = xgb.DMatrix(X_test, label=y_test)\n",
    "\n",
    "# Define XGBoost's hyperparameters\n",
    "params = {\n",
    "    'objective': 'multi:softmax',\n",
    "    'num_class': 3,\n",
    "    'max_depth': 10,\n",
    "    'eta': 0.1,\n",
    "    'silent': 1,\n",
    "    'eval_metric': 'merror',\n",
    "    'seed': 0\n",
    "}"
   ]
  },
  {
   "cell_type": "code",
   "execution_count": 28,
   "id": "2cad5dd5",
   "metadata": {},
   "outputs": [
    {
     "name": "stdout",
     "output_type": "stream",
     "text": [
      "[10:31:04] WARNING: C:/Users/administrator/workspace/xgboost-win64_release_1.6.0/src/learner.cc:627: \n",
      "Parameters: { \"silent\" } might not be used.\n",
      "\n",
      "  This could be a false alarm, with some parameters getting used by language bindings but\n",
      "  then being mistakenly passed down to XGBoost core, or some parameter actually being used\n",
      "  but getting flagged wrongly here. Please open an issue if you find any such cases.\n",
      "\n",
      "\n"
     ]
    }
   ],
   "source": [
    "# Train XGBoost model\n",
    "bst = xgb.train(params, dtrain, num_boost_round=10)"
   ]
  },
  {
   "cell_type": "code",
   "execution_count": 29,
   "id": "5708f301",
   "metadata": {},
   "outputs": [],
   "source": [
    "# Predict using XGBoost model\n",
    "y_pred = bst.predict(dtest)"
   ]
  },
  {
   "cell_type": "code",
   "execution_count": 30,
   "id": "18988ad3",
   "metadata": {},
   "outputs": [
    {
     "name": "stdout",
     "output_type": "stream",
     "text": [
      "Accuracy: 45.26%\n"
     ]
    }
   ],
   "source": [
    "# Evaluate XGBoost model\n",
    "accuracy = accuracy_score(y_test, y_pred)\n",
    "print(\"Accuracy: %.2f%%\" % (accuracy * 100.0))"
   ]
  },
  {
   "cell_type": "code",
   "execution_count": 303,
   "id": "9804a2df",
   "metadata": {},
   "outputs": [
    {
     "data": {
      "image/png": "[encoded data removed]",
      "text/plain": [
       "<Figure size 432x288 with 1 Axes>"
      ]
     },
     "metadata": {
      "needs_background": "light"
     },
     "output_type": "display_data"
    }
   ],
   "source": [
    "from collections import Counter \n",
    "import matplotlib.pyplot as plt \n",
    "\n",
    "counter_labels = Counter(y_test)\n",
    "counter_preds = Counter(y_pred)\n",
    "\n",
    "x1 = list(counter_labels.keys())\n",
    "y1 = list(counter_labels.values())\n",
    "x1 = [val+2 for val in x1]\n",
    "\n",
    "x2 = list(counter_preds.keys())\n",
    "y2 = list(counter_preds.values())\n",
    "x2 = [val+2 for val in x2]\n",
    "\n",
    "plt.bar(x1, y1, color='blue', width=0.25, label='True labels', alpha = 1)\n",
    "\n",
    "# Plot second bar plot with shifted x-coordinates\n",
    "plt.bar(x2, y2, color='g', width=0.25, label='Predictions',\n",
    "        align='edge', alpha = 1)\n",
    "\n",
    "# Add labels and legend\n",
    "plt.xlabel('Class labels')\n",
    "plt.ylabel('Frequency')\n",
    "plt.title('XGBoost Prediction Accuracy')\n",
    "plt.legend()\n",
    "\n",
    "# Show plot\n",
    "plt.show()"
   ]
  }
 ],
 "metadata": {
  "kernelspec": {
   "display_name": "Python 3.7 (Pytorch)",
   "language": "python",
   "name": "pytorch"
  },
  "language_info": {
   "codemirror_mode": {
    "name": "ipython",
    "version": 3
   },
   "file_extension": ".py",
   "mimetype": "text/x-python",
   "name": "python",
   "nbconvert_exporter": "python",
   "pygments_lexer": "ipython3",
   "version": "3.7.11"
  }
 },
 "nbformat": 4,
 "nbformat_minor": 5
}
